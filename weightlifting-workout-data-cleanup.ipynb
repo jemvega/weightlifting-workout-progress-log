{
 "cells": [
  {
   "cell_type": "code",
   "execution_count": null,
   "metadata": {},
   "outputs": [],
   "source": [
    "\"\"\"\n",
    "This file was used to input data into a .csv file, clean the data using pandas,\n",
    "and organize the data to be written into a MySQL .db file format.\n",
    "\"\"\""
   ]
  },
  {
   "cell_type": "code",
   "execution_count": 1,
   "metadata": {},
   "outputs": [],
   "source": [
    "import pandas as pd \n",
    "from datetime import datetime"
   ]
  },
  {
   "cell_type": "code",
   "execution_count": null,
   "metadata": {},
   "outputs": [],
   "source": [
    "def batch_input(file_name):\n",
    "    if not \".csv\" in file_name: \n",
    "        file_rename = file_name + \".csv\" \n",
    "    output_file = open(file_rename, \"a\", newline = \"\")\n",
    "    output_writer = csv.writer(output_file, lineterminator = \"\\n\")\n",
    "    user_input = \"\"\n",
    "\n",
    "    while user_input != \"q\".lower(): \n",
    "        user_input = input(\"Please input your data. \\n\")\n",
    "        if user_input == \"q\".lower():\n",
    "            print(\"Goodbye!\\n\")\n",
    "            output_file.close()\n",
    "            break\n",
    "        else:\n",
    "            output_writer.writerow(user_input.split())\n",
    "            continue"
   ]
  },
  {
   "cell_type": "code",
   "execution_count": null,
   "metadata": {},
   "outputs": [],
   "source": [
    "def string_to_integer(list_string):\n",
    "    try:\n",
    "        converted_list = list_string.copy()\n",
    "        for i in converted_list:\n",
    "            if i.isdigit() == True:\n",
    "                integer = int(i)\n",
    "                index = converted_list.index(i)\n",
    "                converted_list.pop(index)\n",
    "                converted_list.insert(index, integer)\n",
    "        return converted_list\n",
    "    except:\n",
    "        print(\"Error!\")"
   ]
  },
  {
   "cell_type": "code",
   "execution_count": null,
   "metadata": {},
   "outputs": [],
   "source": [
    "# This is a function for writing workout data into csv from user input. \n",
    "batch_input(\"workout_data_raw\")"
   ]
  },
  {
   "cell_type": "code",
   "execution_count": 2,
   "metadata": {},
   "outputs": [
    {
     "data": {
      "text/plain": [
       "['exercise', 'sets', 'reps', 'weight_lbs', 'datetime', 'duration_minutes']"
      ]
     },
     "execution_count": 2,
     "metadata": {},
     "output_type": "execute_result"
    }
   ],
   "source": [
    "column_names = \"exercise, sets, reps, weight_lbs, datetime, duration_minutes\".split(\", \")\n",
    "column_names"
   ]
  },
  {
   "cell_type": "code",
   "execution_count": 3,
   "metadata": {},
   "outputs": [
    {
     "data": {
      "text/plain": [
       "['BackSquat',\n",
       " 'OverheadSquat',\n",
       " 'FrontSquat',\n",
       " 'BenchPress',\n",
       " 'Deadlift',\n",
       " 'Snatch',\n",
       " 'Clean&Jerk',\n",
       " 'ShoulderPress',\n",
       " 'SnatchPress']"
      ]
     },
     "execution_count": 3,
     "metadata": {},
     "output_type": "execute_result"
    }
   ],
   "source": [
    "exercise_names = \"BackSquat OverheadSquat FrontSquat BenchPress Deadlift Snatch Clean&Jerk ShoulderPress SnatchPress\".split()\n",
    "exercise_names"
   ]
  },
  {
   "cell_type": "code",
   "execution_count": 4,
   "metadata": {},
   "outputs": [],
   "source": [
    "workout_data_raw = pd.read_csv(\"workout_data_raw.csv\")"
   ]
  },
  {
   "cell_type": "code",
   "execution_count": 5,
   "metadata": {
    "scrolled": true
   },
   "outputs": [
    {
     "data": {
      "text/html": [
       "<div>\n",
       "<style scoped>\n",
       "    .dataframe tbody tr th:only-of-type {\n",
       "        vertical-align: middle;\n",
       "    }\n",
       "\n",
       "    .dataframe tbody tr th {\n",
       "        vertical-align: top;\n",
       "    }\n",
       "\n",
       "    .dataframe thead th {\n",
       "        text-align: right;\n",
       "    }\n",
       "</style>\n",
       "<table border=\"1\" class=\"dataframe\">\n",
       "  <thead>\n",
       "    <tr style=\"text-align: right;\">\n",
       "      <th></th>\n",
       "      <th>exercise</th>\n",
       "      <th>sets</th>\n",
       "      <th>reps</th>\n",
       "      <th>weight_lbs</th>\n",
       "      <th>datetime</th>\n",
       "      <th>duration_minutes</th>\n",
       "    </tr>\n",
       "  </thead>\n",
       "  <tbody>\n",
       "    <tr>\n",
       "      <th>0</th>\n",
       "      <td>Clean&amp;Jerk</td>\n",
       "      <td>3</td>\n",
       "      <td>7</td>\n",
       "      <td>65</td>\n",
       "      <td>7/24/2018</td>\n",
       "      <td>NaN</td>\n",
       "    </tr>\n",
       "    <tr>\n",
       "      <th>1</th>\n",
       "      <td>BenchPress</td>\n",
       "      <td>3</td>\n",
       "      <td>7</td>\n",
       "      <td>65</td>\n",
       "      <td>7/24/2018</td>\n",
       "      <td>NaN</td>\n",
       "    </tr>\n",
       "    <tr>\n",
       "      <th>2</th>\n",
       "      <td>ShoulderPress</td>\n",
       "      <td>2</td>\n",
       "      <td>7</td>\n",
       "      <td>65</td>\n",
       "      <td>7/25/2018</td>\n",
       "      <td>NaN</td>\n",
       "    </tr>\n",
       "    <tr>\n",
       "      <th>3</th>\n",
       "      <td>ShoulderPress</td>\n",
       "      <td>1</td>\n",
       "      <td>10</td>\n",
       "      <td>65</td>\n",
       "      <td>7/25/2018</td>\n",
       "      <td>NaN</td>\n",
       "    </tr>\n",
       "    <tr>\n",
       "      <th>4</th>\n",
       "      <td>BackSquat</td>\n",
       "      <td>3</td>\n",
       "      <td>5</td>\n",
       "      <td>65</td>\n",
       "      <td>7/23/2018</td>\n",
       "      <td>NaN</td>\n",
       "    </tr>\n",
       "  </tbody>\n",
       "</table>\n",
       "</div>"
      ],
      "text/plain": [
       "        exercise  sets  reps  weight_lbs   datetime  duration_minutes\n",
       "0     Clean&Jerk     3     7          65  7/24/2018               NaN\n",
       "1     BenchPress     3     7          65  7/24/2018               NaN\n",
       "2  ShoulderPress     2     7          65  7/25/2018               NaN\n",
       "3  ShoulderPress     1    10          65  7/25/2018               NaN\n",
       "4      BackSquat     3     5          65  7/23/2018               NaN"
      ]
     },
     "execution_count": 5,
     "metadata": {},
     "output_type": "execute_result"
    }
   ],
   "source": [
    "workout_data_raw.head()"
   ]
  },
  {
   "cell_type": "code",
   "execution_count": 6,
   "metadata": {},
   "outputs": [
    {
     "data": {
      "text/html": [
       "<div>\n",
       "<style scoped>\n",
       "    .dataframe tbody tr th:only-of-type {\n",
       "        vertical-align: middle;\n",
       "    }\n",
       "\n",
       "    .dataframe tbody tr th {\n",
       "        vertical-align: top;\n",
       "    }\n",
       "\n",
       "    .dataframe thead th {\n",
       "        text-align: right;\n",
       "    }\n",
       "</style>\n",
       "<table border=\"1\" class=\"dataframe\">\n",
       "  <thead>\n",
       "    <tr style=\"text-align: right;\">\n",
       "      <th></th>\n",
       "      <th>exercise</th>\n",
       "      <th>sets</th>\n",
       "      <th>reps</th>\n",
       "      <th>weight_lbs</th>\n",
       "      <th>datetime</th>\n",
       "      <th>duration_minutes</th>\n",
       "    </tr>\n",
       "  </thead>\n",
       "  <tbody>\n",
       "    <tr>\n",
       "      <th>0</th>\n",
       "      <td>Clean&amp;Jerk</td>\n",
       "      <td>3</td>\n",
       "      <td>7</td>\n",
       "      <td>65</td>\n",
       "      <td>7/24/2018</td>\n",
       "      <td></td>\n",
       "    </tr>\n",
       "    <tr>\n",
       "      <th>1</th>\n",
       "      <td>BenchPress</td>\n",
       "      <td>3</td>\n",
       "      <td>7</td>\n",
       "      <td>65</td>\n",
       "      <td>7/24/2018</td>\n",
       "      <td></td>\n",
       "    </tr>\n",
       "    <tr>\n",
       "      <th>2</th>\n",
       "      <td>ShoulderPress</td>\n",
       "      <td>2</td>\n",
       "      <td>7</td>\n",
       "      <td>65</td>\n",
       "      <td>7/25/2018</td>\n",
       "      <td></td>\n",
       "    </tr>\n",
       "    <tr>\n",
       "      <th>3</th>\n",
       "      <td>ShoulderPress</td>\n",
       "      <td>1</td>\n",
       "      <td>10</td>\n",
       "      <td>65</td>\n",
       "      <td>7/25/2018</td>\n",
       "      <td></td>\n",
       "    </tr>\n",
       "    <tr>\n",
       "      <th>4</th>\n",
       "      <td>BackSquat</td>\n",
       "      <td>3</td>\n",
       "      <td>5</td>\n",
       "      <td>65</td>\n",
       "      <td>7/23/2018</td>\n",
       "      <td></td>\n",
       "    </tr>\n",
       "  </tbody>\n",
       "</table>\n",
       "</div>"
      ],
      "text/plain": [
       "        exercise  sets  reps  weight_lbs   datetime duration_minutes\n",
       "0     Clean&Jerk     3     7          65  7/24/2018                 \n",
       "1     BenchPress     3     7          65  7/24/2018                 \n",
       "2  ShoulderPress     2     7          65  7/25/2018                 \n",
       "3  ShoulderPress     1    10          65  7/25/2018                 \n",
       "4      BackSquat     3     5          65  7/23/2018                 "
      ]
     },
     "execution_count": 6,
     "metadata": {},
     "output_type": "execute_result"
    }
   ],
   "source": [
    "workout_data_raw.fillna(\"\", inplace = True)\n",
    "workout_data_raw.head()"
   ]
  },
  {
   "cell_type": "code",
   "execution_count": 7,
   "metadata": {},
   "outputs": [
    {
     "data": {
      "text/plain": [
       "array(['Clean&Jerk', 'BenchPress', 'ShoulderPress', 'BackSquat',\n",
       "       'FrontSquat', 'OverheadSquat', 'Deadlifts', 'Snatch',\n",
       "       'FrontSquats', 'Deadlift', 'ShouldPress', 'BackSquats',\n",
       "       'SnatchPress'], dtype=object)"
      ]
     },
     "execution_count": 7,
     "metadata": {},
     "output_type": "execute_result"
    }
   ],
   "source": [
    "# Note: the exercise names do not match the exercise names from above. \n",
    "workout_data_raw[\"exercise\"].unique()"
   ]
  },
  {
   "cell_type": "code",
   "execution_count": 8,
   "metadata": {},
   "outputs": [
    {
     "name": "stderr",
     "output_type": "stream",
     "text": [
      "C:\\ProgramData\\Anaconda3\\lib\\site-packages\\ipykernel_launcher.py:4: SettingWithCopyWarning: \n",
      "A value is trying to be set on a copy of a slice from a DataFrame\n",
      "\n",
      "See the caveats in the documentation: http://pandas.pydata.org/pandas-docs/stable/indexing.html#indexing-view-versus-copy\n",
      "  after removing the cwd from sys.path.\n"
     ]
    },
    {
     "data": {
      "text/plain": [
       "array(['Clean&Jerk', 'BenchPress', 'ShoulderPress', 'BackSquat',\n",
       "       'FrontSquat', 'OverheadSquat', 'Deadlifts', 'Snatch',\n",
       "       'FrontSquats', 'Deadlift', 'ShouldPress', 'SnatchPress'],\n",
       "      dtype=object)"
      ]
     },
     "execution_count": 8,
     "metadata": {},
     "output_type": "execute_result"
    }
   ],
   "source": [
    "# Need to change \"BackSquats\" to \"BackSquat\" for consistency.\n",
    "rename_exercise = workout_data_raw.index[workout_data_raw[\"exercise\"] == \"BackSquats\"].tolist()\n",
    "for i in rename_exercise:\n",
    "    workout_data_raw[\"exercise\"][i] = \"BackSquat\"\n",
    "workout_data_raw[\"exercise\"].unique()"
   ]
  },
  {
   "cell_type": "code",
   "execution_count": 9,
   "metadata": {},
   "outputs": [
    {
     "name": "stderr",
     "output_type": "stream",
     "text": [
      "C:\\ProgramData\\Anaconda3\\lib\\site-packages\\ipykernel_launcher.py:4: SettingWithCopyWarning: \n",
      "A value is trying to be set on a copy of a slice from a DataFrame\n",
      "\n",
      "See the caveats in the documentation: http://pandas.pydata.org/pandas-docs/stable/indexing.html#indexing-view-versus-copy\n",
      "  after removing the cwd from sys.path.\n"
     ]
    },
    {
     "data": {
      "text/plain": [
       "array(['Clean&Jerk', 'BenchPress', 'ShoulderPress', 'BackSquat',\n",
       "       'FrontSquat', 'OverheadSquat', 'Deadlifts', 'Snatch', 'Deadlift',\n",
       "       'ShouldPress', 'SnatchPress'], dtype=object)"
      ]
     },
     "execution_count": 9,
     "metadata": {},
     "output_type": "execute_result"
    }
   ],
   "source": [
    "# Need to change \"FrontSquats\" to \"FrontSquat\" for consistency. \n",
    "rename_exercise = workout_data_raw.index[workout_data_raw[\"exercise\"] == \"FrontSquats\"].tolist()\n",
    "for i in rename_exercise:\n",
    "    workout_data_raw[\"exercise\"][i] = \"FrontSquat\"\n",
    "workout_data_raw[\"exercise\"].unique()"
   ]
  },
  {
   "cell_type": "code",
   "execution_count": 10,
   "metadata": {},
   "outputs": [
    {
     "name": "stderr",
     "output_type": "stream",
     "text": [
      "C:\\ProgramData\\Anaconda3\\lib\\site-packages\\ipykernel_launcher.py:4: SettingWithCopyWarning: \n",
      "A value is trying to be set on a copy of a slice from a DataFrame\n",
      "\n",
      "See the caveats in the documentation: http://pandas.pydata.org/pandas-docs/stable/indexing.html#indexing-view-versus-copy\n",
      "  after removing the cwd from sys.path.\n"
     ]
    },
    {
     "data": {
      "text/plain": [
       "array(['Clean&Jerk', 'BenchPress', 'ShoulderPress', 'BackSquat',\n",
       "       'FrontSquat', 'OverheadSquat', 'Deadlift', 'Snatch', 'ShouldPress',\n",
       "       'SnatchPress'], dtype=object)"
      ]
     },
     "execution_count": 10,
     "metadata": {},
     "output_type": "execute_result"
    }
   ],
   "source": [
    "# Need to change \"Deadlifts\" to \"Deadlift\" for consistency. \n",
    "rename_exercise = workout_data_raw.index[workout_data_raw[\"exercise\"] == \"Deadlifts\"].tolist()\n",
    "for i in rename_exercise:\n",
    "    workout_data_raw[\"exercise\"][i] = \"Deadlift\"\n",
    "workout_data_raw[\"exercise\"].unique()"
   ]
  },
  {
   "cell_type": "code",
   "execution_count": 11,
   "metadata": {},
   "outputs": [
    {
     "name": "stderr",
     "output_type": "stream",
     "text": [
      "C:\\ProgramData\\Anaconda3\\lib\\site-packages\\ipykernel_launcher.py:4: SettingWithCopyWarning: \n",
      "A value is trying to be set on a copy of a slice from a DataFrame\n",
      "\n",
      "See the caveats in the documentation: http://pandas.pydata.org/pandas-docs/stable/indexing.html#indexing-view-versus-copy\n",
      "  after removing the cwd from sys.path.\n"
     ]
    },
    {
     "data": {
      "text/plain": [
       "array(['Clean&Jerk', 'BenchPress', 'ShoulderPress', 'BackSquat',\n",
       "       'FrontSquat', 'OverheadSquat', 'Deadlift', 'Snatch', 'SnatchPress'],\n",
       "      dtype=object)"
      ]
     },
     "execution_count": 11,
     "metadata": {},
     "output_type": "execute_result"
    }
   ],
   "source": [
    "# Need to change \"ShouldPress\" to \"ShoulderPress\" for consitency. \n",
    "rename_exercise = workout_data_raw.index[workout_data_raw[\"exercise\"] == \"ShouldPress\"].tolist()\n",
    "for i in rename_exercise:\n",
    "    workout_data_raw[\"exercise\"][i] = \"Deadlift\"\n",
    "workout_data_raw[\"exercise\"].unique()"
   ]
  },
  {
   "cell_type": "code",
   "execution_count": 12,
   "metadata": {},
   "outputs": [],
   "source": [
    "workout_data_raw.to_csv(r'C:\\Users\\jacqu\\Desktop\\Github Portfolio\\weightlifting-workout-tracker\\workout_data_clean.csv')"
   ]
  },
  {
   "cell_type": "code",
   "execution_count": 13,
   "metadata": {},
   "outputs": [
    {
     "data": {
      "text/html": [
       "<div>\n",
       "<style scoped>\n",
       "    .dataframe tbody tr th:only-of-type {\n",
       "        vertical-align: middle;\n",
       "    }\n",
       "\n",
       "    .dataframe tbody tr th {\n",
       "        vertical-align: top;\n",
       "    }\n",
       "\n",
       "    .dataframe thead th {\n",
       "        text-align: right;\n",
       "    }\n",
       "</style>\n",
       "<table border=\"1\" class=\"dataframe\">\n",
       "  <thead>\n",
       "    <tr style=\"text-align: right;\">\n",
       "      <th></th>\n",
       "      <th>Unnamed: 0</th>\n",
       "      <th>exercise</th>\n",
       "      <th>sets</th>\n",
       "      <th>reps</th>\n",
       "      <th>weight_lbs</th>\n",
       "      <th>datetime</th>\n",
       "      <th>duration_minutes</th>\n",
       "    </tr>\n",
       "  </thead>\n",
       "  <tbody>\n",
       "    <tr>\n",
       "      <th>0</th>\n",
       "      <td>0</td>\n",
       "      <td>Clean&amp;Jerk</td>\n",
       "      <td>3</td>\n",
       "      <td>7</td>\n",
       "      <td>65</td>\n",
       "      <td>7/24/2018</td>\n",
       "      <td>NaN</td>\n",
       "    </tr>\n",
       "    <tr>\n",
       "      <th>1</th>\n",
       "      <td>1</td>\n",
       "      <td>BenchPress</td>\n",
       "      <td>3</td>\n",
       "      <td>7</td>\n",
       "      <td>65</td>\n",
       "      <td>7/24/2018</td>\n",
       "      <td>NaN</td>\n",
       "    </tr>\n",
       "    <tr>\n",
       "      <th>2</th>\n",
       "      <td>2</td>\n",
       "      <td>ShoulderPress</td>\n",
       "      <td>2</td>\n",
       "      <td>7</td>\n",
       "      <td>65</td>\n",
       "      <td>7/25/2018</td>\n",
       "      <td>NaN</td>\n",
       "    </tr>\n",
       "    <tr>\n",
       "      <th>3</th>\n",
       "      <td>3</td>\n",
       "      <td>ShoulderPress</td>\n",
       "      <td>1</td>\n",
       "      <td>10</td>\n",
       "      <td>65</td>\n",
       "      <td>7/25/2018</td>\n",
       "      <td>NaN</td>\n",
       "    </tr>\n",
       "    <tr>\n",
       "      <th>4</th>\n",
       "      <td>4</td>\n",
       "      <td>BackSquat</td>\n",
       "      <td>3</td>\n",
       "      <td>5</td>\n",
       "      <td>65</td>\n",
       "      <td>7/23/2018</td>\n",
       "      <td>NaN</td>\n",
       "    </tr>\n",
       "  </tbody>\n",
       "</table>\n",
       "</div>"
      ],
      "text/plain": [
       "   Unnamed: 0       exercise  sets  reps  weight_lbs   datetime  \\\n",
       "0           0     Clean&Jerk     3     7          65  7/24/2018   \n",
       "1           1     BenchPress     3     7          65  7/24/2018   \n",
       "2           2  ShoulderPress     2     7          65  7/25/2018   \n",
       "3           3  ShoulderPress     1    10          65  7/25/2018   \n",
       "4           4      BackSquat     3     5          65  7/23/2018   \n",
       "\n",
       "   duration_minutes  \n",
       "0               NaN  \n",
       "1               NaN  \n",
       "2               NaN  \n",
       "3               NaN  \n",
       "4               NaN  "
      ]
     },
     "execution_count": 13,
     "metadata": {},
     "output_type": "execute_result"
    }
   ],
   "source": [
    "workout_data_clean = pd.read_csv(\"workout_data_clean.csv\")\n",
    "workout_data_clean.head()"
   ]
  },
  {
   "cell_type": "code",
   "execution_count": 14,
   "metadata": {},
   "outputs": [
    {
     "data": {
      "text/html": [
       "<div>\n",
       "<style scoped>\n",
       "    .dataframe tbody tr th:only-of-type {\n",
       "        vertical-align: middle;\n",
       "    }\n",
       "\n",
       "    .dataframe tbody tr th {\n",
       "        vertical-align: top;\n",
       "    }\n",
       "\n",
       "    .dataframe thead th {\n",
       "        text-align: right;\n",
       "    }\n",
       "</style>\n",
       "<table border=\"1\" class=\"dataframe\">\n",
       "  <thead>\n",
       "    <tr style=\"text-align: right;\">\n",
       "      <th></th>\n",
       "      <th>Unnamed: 0</th>\n",
       "      <th>exercise</th>\n",
       "      <th>sets</th>\n",
       "      <th>reps</th>\n",
       "      <th>weight_lbs</th>\n",
       "      <th>datetime</th>\n",
       "      <th>duration_minutes</th>\n",
       "    </tr>\n",
       "  </thead>\n",
       "  <tbody>\n",
       "    <tr>\n",
       "      <th>0</th>\n",
       "      <td>0</td>\n",
       "      <td>Clean&amp;Jerk</td>\n",
       "      <td>3</td>\n",
       "      <td>7</td>\n",
       "      <td>65</td>\n",
       "      <td>7/24/2018</td>\n",
       "      <td>-1.0</td>\n",
       "    </tr>\n",
       "    <tr>\n",
       "      <th>1</th>\n",
       "      <td>1</td>\n",
       "      <td>BenchPress</td>\n",
       "      <td>3</td>\n",
       "      <td>7</td>\n",
       "      <td>65</td>\n",
       "      <td>7/24/2018</td>\n",
       "      <td>-1.0</td>\n",
       "    </tr>\n",
       "    <tr>\n",
       "      <th>2</th>\n",
       "      <td>2</td>\n",
       "      <td>ShoulderPress</td>\n",
       "      <td>2</td>\n",
       "      <td>7</td>\n",
       "      <td>65</td>\n",
       "      <td>7/25/2018</td>\n",
       "      <td>-1.0</td>\n",
       "    </tr>\n",
       "    <tr>\n",
       "      <th>3</th>\n",
       "      <td>3</td>\n",
       "      <td>ShoulderPress</td>\n",
       "      <td>1</td>\n",
       "      <td>10</td>\n",
       "      <td>65</td>\n",
       "      <td>7/25/2018</td>\n",
       "      <td>-1.0</td>\n",
       "    </tr>\n",
       "    <tr>\n",
       "      <th>4</th>\n",
       "      <td>4</td>\n",
       "      <td>BackSquat</td>\n",
       "      <td>3</td>\n",
       "      <td>5</td>\n",
       "      <td>65</td>\n",
       "      <td>7/23/2018</td>\n",
       "      <td>-1.0</td>\n",
       "    </tr>\n",
       "  </tbody>\n",
       "</table>\n",
       "</div>"
      ],
      "text/plain": [
       "   Unnamed: 0       exercise  sets  reps  weight_lbs   datetime  \\\n",
       "0           0     Clean&Jerk     3     7          65  7/24/2018   \n",
       "1           1     BenchPress     3     7          65  7/24/2018   \n",
       "2           2  ShoulderPress     2     7          65  7/25/2018   \n",
       "3           3  ShoulderPress     1    10          65  7/25/2018   \n",
       "4           4      BackSquat     3     5          65  7/23/2018   \n",
       "\n",
       "   duration_minutes  \n",
       "0              -1.0  \n",
       "1              -1.0  \n",
       "2              -1.0  \n",
       "3              -1.0  \n",
       "4              -1.0  "
      ]
     },
     "execution_count": 14,
     "metadata": {},
     "output_type": "execute_result"
    }
   ],
   "source": [
    "workout_data_clean.fillna(-1, inplace=True)\n",
    "workout_data_clean.head()"
   ]
  },
  {
   "cell_type": "code",
   "execution_count": 15,
   "metadata": {},
   "outputs": [
    {
     "data": {
      "text/html": [
       "<div>\n",
       "<style scoped>\n",
       "    .dataframe tbody tr th:only-of-type {\n",
       "        vertical-align: middle;\n",
       "    }\n",
       "\n",
       "    .dataframe tbody tr th {\n",
       "        vertical-align: top;\n",
       "    }\n",
       "\n",
       "    .dataframe thead th {\n",
       "        text-align: right;\n",
       "    }\n",
       "</style>\n",
       "<table border=\"1\" class=\"dataframe\">\n",
       "  <thead>\n",
       "    <tr style=\"text-align: right;\">\n",
       "      <th></th>\n",
       "      <th>exercise</th>\n",
       "      <th>sets</th>\n",
       "      <th>reps</th>\n",
       "      <th>weight_lbs</th>\n",
       "      <th>datetime</th>\n",
       "      <th>duration_minutes</th>\n",
       "    </tr>\n",
       "  </thead>\n",
       "  <tbody>\n",
       "    <tr>\n",
       "      <th>0</th>\n",
       "      <td>Clean&amp;Jerk</td>\n",
       "      <td>3</td>\n",
       "      <td>7</td>\n",
       "      <td>65</td>\n",
       "      <td>7/24/2018</td>\n",
       "      <td>-1.0</td>\n",
       "    </tr>\n",
       "    <tr>\n",
       "      <th>1</th>\n",
       "      <td>BenchPress</td>\n",
       "      <td>3</td>\n",
       "      <td>7</td>\n",
       "      <td>65</td>\n",
       "      <td>7/24/2018</td>\n",
       "      <td>-1.0</td>\n",
       "    </tr>\n",
       "    <tr>\n",
       "      <th>2</th>\n",
       "      <td>ShoulderPress</td>\n",
       "      <td>2</td>\n",
       "      <td>7</td>\n",
       "      <td>65</td>\n",
       "      <td>7/25/2018</td>\n",
       "      <td>-1.0</td>\n",
       "    </tr>\n",
       "    <tr>\n",
       "      <th>3</th>\n",
       "      <td>ShoulderPress</td>\n",
       "      <td>1</td>\n",
       "      <td>10</td>\n",
       "      <td>65</td>\n",
       "      <td>7/25/2018</td>\n",
       "      <td>-1.0</td>\n",
       "    </tr>\n",
       "    <tr>\n",
       "      <th>4</th>\n",
       "      <td>BackSquat</td>\n",
       "      <td>3</td>\n",
       "      <td>5</td>\n",
       "      <td>65</td>\n",
       "      <td>7/23/2018</td>\n",
       "      <td>-1.0</td>\n",
       "    </tr>\n",
       "  </tbody>\n",
       "</table>\n",
       "</div>"
      ],
      "text/plain": [
       "        exercise  sets  reps  weight_lbs   datetime  duration_minutes\n",
       "0     Clean&Jerk     3     7          65  7/24/2018              -1.0\n",
       "1     BenchPress     3     7          65  7/24/2018              -1.0\n",
       "2  ShoulderPress     2     7          65  7/25/2018              -1.0\n",
       "3  ShoulderPress     1    10          65  7/25/2018              -1.0\n",
       "4      BackSquat     3     5          65  7/23/2018              -1.0"
      ]
     },
     "execution_count": 15,
     "metadata": {},
     "output_type": "execute_result"
    }
   ],
   "source": [
    "workout_data_clean.drop(columns = [\"Unnamed: 0\"], inplace = True)\n",
    "workout_data_clean.head()"
   ]
  },
  {
   "cell_type": "code",
   "execution_count": 16,
   "metadata": {},
   "outputs": [
    {
     "data": {
      "text/html": [
       "<div>\n",
       "<style scoped>\n",
       "    .dataframe tbody tr th:only-of-type {\n",
       "        vertical-align: middle;\n",
       "    }\n",
       "\n",
       "    .dataframe tbody tr th {\n",
       "        vertical-align: top;\n",
       "    }\n",
       "\n",
       "    .dataframe thead th {\n",
       "        text-align: right;\n",
       "    }\n",
       "</style>\n",
       "<table border=\"1\" class=\"dataframe\">\n",
       "  <thead>\n",
       "    <tr style=\"text-align: right;\">\n",
       "      <th></th>\n",
       "      <th>exercise</th>\n",
       "      <th>sets</th>\n",
       "      <th>reps</th>\n",
       "      <th>weight_lbs</th>\n",
       "      <th>datetime</th>\n",
       "      <th>duration_minutes</th>\n",
       "    </tr>\n",
       "  </thead>\n",
       "  <tbody>\n",
       "    <tr>\n",
       "      <th>0</th>\n",
       "      <td>Clean&amp;Jerk</td>\n",
       "      <td>3</td>\n",
       "      <td>7</td>\n",
       "      <td>65</td>\n",
       "      <td>7/24/2018</td>\n",
       "      <td>-1.0</td>\n",
       "    </tr>\n",
       "    <tr>\n",
       "      <th>1</th>\n",
       "      <td>BenchPress</td>\n",
       "      <td>3</td>\n",
       "      <td>7</td>\n",
       "      <td>65</td>\n",
       "      <td>7/24/2018</td>\n",
       "      <td>-1.0</td>\n",
       "    </tr>\n",
       "    <tr>\n",
       "      <th>2</th>\n",
       "      <td>ShoulderPress</td>\n",
       "      <td>2</td>\n",
       "      <td>7</td>\n",
       "      <td>65</td>\n",
       "      <td>7/25/2018</td>\n",
       "      <td>-1.0</td>\n",
       "    </tr>\n",
       "    <tr>\n",
       "      <th>3</th>\n",
       "      <td>ShoulderPress</td>\n",
       "      <td>1</td>\n",
       "      <td>10</td>\n",
       "      <td>65</td>\n",
       "      <td>7/25/2018</td>\n",
       "      <td>-1.0</td>\n",
       "    </tr>\n",
       "    <tr>\n",
       "      <th>4</th>\n",
       "      <td>BackSquat</td>\n",
       "      <td>3</td>\n",
       "      <td>5</td>\n",
       "      <td>65</td>\n",
       "      <td>7/23/2018</td>\n",
       "      <td>-1.0</td>\n",
       "    </tr>\n",
       "  </tbody>\n",
       "</table>\n",
       "</div>"
      ],
      "text/plain": [
       "        exercise  sets  reps  weight_lbs   datetime  duration_minutes\n",
       "0     Clean&Jerk     3     7          65  7/24/2018              -1.0\n",
       "1     BenchPress     3     7          65  7/24/2018              -1.0\n",
       "2  ShoulderPress     2     7          65  7/25/2018              -1.0\n",
       "3  ShoulderPress     1    10          65  7/25/2018              -1.0\n",
       "4      BackSquat     3     5          65  7/23/2018              -1.0"
      ]
     },
     "execution_count": 16,
     "metadata": {},
     "output_type": "execute_result"
    }
   ],
   "source": [
    "workout_data_clean.head()"
   ]
  },
  {
   "cell_type": "code",
   "execution_count": 17,
   "metadata": {},
   "outputs": [
    {
     "data": {
      "text/plain": [
       "True"
      ]
     },
     "execution_count": 17,
     "metadata": {},
     "output_type": "execute_result"
    }
   ],
   "source": [
    "# Check to see if .csv headers match .db headers\n",
    "col_headers = set(list(workout_data_clean))\n",
    "col_headers == set(column_names)"
   ]
  },
  {
   "cell_type": "code",
   "execution_count": 18,
   "metadata": {},
   "outputs": [
    {
     "data": {
      "text/plain": [
       "True"
      ]
     },
     "execution_count": 18,
     "metadata": {},
     "output_type": "execute_result"
    }
   ],
   "source": [
    "# Check to see if exercise_names have duplicates or errors\n",
    "set(exercise_names) == set(workout_data_clean[\"exercise\"].unique())"
   ]
  },
  {
   "cell_type": "code",
   "execution_count": 19,
   "metadata": {},
   "outputs": [
    {
     "data": {
      "text/plain": [
       "[['Clean&Jerk', 3, 7, 65, '7/24/2018', -1.0],\n",
       " ['BenchPress', 3, 7, 65, '7/24/2018', -1.0],\n",
       " ['ShoulderPress', 2, 7, 65, '7/25/2018', -1.0],\n",
       " ['ShoulderPress', 1, 10, 65, '7/25/2018', -1.0],\n",
       " ['BackSquat', 3, 5, 65, '7/23/2018', -1.0]]"
      ]
     },
     "execution_count": 19,
     "metadata": {},
     "output_type": "execute_result"
    }
   ],
   "source": [
    "workout_data_list = workout_data_clean.values.tolist()\n",
    "workout_data_list[0:5]"
   ]
  },
  {
   "cell_type": "code",
   "execution_count": 20,
   "metadata": {},
   "outputs": [
    {
     "data": {
      "text/plain": [
       "347"
      ]
     },
     "execution_count": 20,
     "metadata": {},
     "output_type": "execute_result"
    }
   ],
   "source": [
    "len(workout_data_list)"
   ]
  },
  {
   "cell_type": "code",
   "execution_count": 21,
   "metadata": {},
   "outputs": [],
   "source": [
    "# This changes the \"%m/%d/%Y\" string format in the list to datetime format \"%Y-%m-%d %H:%M:%S\"\n",
    "for i in range(len(workout_data_list)):\n",
    "    try:\n",
    "        temp = datetime.strptime(workout_data_list[i][4], \"%m/%d/%Y\")\n",
    "        temp.strftime(\"%Y-%m-%d %H:%M:%S\")\n",
    "        workout_data_list[i][4] = temp\n",
    "    except:\n",
    "        pass"
   ]
  },
  {
   "cell_type": "code",
   "execution_count": 22,
   "metadata": {},
   "outputs": [],
   "source": [
    "# This changes the \"%Y-%m-%dT%H-%M-%S\" string format in the list to datetime format \"%Y-%m-%d %H:%M:%S\"\n",
    "for i in range(len(workout_data_list)):\n",
    "    try:\n",
    "        temp = datetime.strptime(workout_data_list[i][4], \"%Y-%m-%dT%H:%M:%S\")\n",
    "        temp.strftime(\"%Y-%m-%d %H:%M:%S\")\n",
    "        workout_data_list[i][4] = temp\n",
    "    except:\n",
    "        pass"
   ]
  },
  {
   "cell_type": "code",
   "execution_count": 23,
   "metadata": {},
   "outputs": [],
   "source": [
    "# This changes the \"%Y-%m-%dT%H-%M-%S\" string format in the list to datetime format \"%Y-%m-%d %H:%M:%S\"\n",
    "for i in range(len(workout_data_list)):\n",
    "    try:\n",
    "        temp = datetime.strptime(workout_data_list[i][4], \"%Y-%m-%dT%H-%M-%S\")\n",
    "        temp.strftime(\"%Y-%m-%d %H:%M:%S\")\n",
    "        workout_data_list[i][4] = temp\n",
    "    except:\n",
    "        pass"
   ]
  },
  {
   "cell_type": "code",
   "execution_count": 24,
   "metadata": {},
   "outputs": [
    {
     "data": {
      "text/plain": [
       "[['Clean&Jerk', 3, 7, 65, datetime.datetime(2018, 7, 24, 0, 0), -1.0],\n",
       " ['BenchPress', 3, 7, 65, datetime.datetime(2018, 7, 24, 0, 0), -1.0],\n",
       " ['ShoulderPress', 2, 7, 65, datetime.datetime(2018, 7, 25, 0, 0), -1.0],\n",
       " ['ShoulderPress', 1, 10, 65, datetime.datetime(2018, 7, 25, 0, 0), -1.0],\n",
       " ['BackSquat', 3, 5, 65, datetime.datetime(2018, 7, 23, 0, 0), -1.0]]"
      ]
     },
     "execution_count": 24,
     "metadata": {},
     "output_type": "execute_result"
    }
   ],
   "source": [
    "workout_data_list[0:5]"
   ]
  },
  {
   "cell_type": "code",
   "execution_count": 25,
   "metadata": {},
   "outputs": [
    {
     "data": {
      "text/plain": [
       "[['Clean&Jerk', 3, 7, 65, datetime.datetime(2018, 7, 24, 0, 0), -1.0],\n",
       " ['BenchPress', 3, 7, 65, datetime.datetime(2018, 7, 24, 0, 0), -1.0],\n",
       " ['ShoulderPress', 2, 7, 65, datetime.datetime(2018, 7, 25, 0, 0), -1.0],\n",
       " ['ShoulderPress', 1, 10, 65, datetime.datetime(2018, 7, 25, 0, 0), -1.0],\n",
       " ['BackSquat', 3, 5, 65, datetime.datetime(2018, 7, 23, 0, 0), -1.0]]"
      ]
     },
     "execution_count": 25,
     "metadata": {},
     "output_type": "execute_result"
    }
   ],
   "source": [
    "workout_data_list[0:5]"
   ]
  },
  {
   "cell_type": "code",
   "execution_count": 26,
   "metadata": {},
   "outputs": [
    {
     "data": {
      "text/plain": [
       "[('Clean&Jerk', 3, 7, 65, datetime.datetime(2018, 7, 24, 0, 0), -1.0),\n",
       " ('BenchPress', 3, 7, 65, datetime.datetime(2018, 7, 24, 0, 0), -1.0),\n",
       " ('ShoulderPress', 2, 7, 65, datetime.datetime(2018, 7, 25, 0, 0), -1.0),\n",
       " ('ShoulderPress', 1, 10, 65, datetime.datetime(2018, 7, 25, 0, 0), -1.0),\n",
       " ('BackSquat', 3, 5, 65, datetime.datetime(2018, 7, 23, 0, 0), -1.0)]"
      ]
     },
     "execution_count": 26,
     "metadata": {},
     "output_type": "execute_result"
    }
   ],
   "source": [
    "workout_data_tuple = [tuple(i) for i in workout_data_list]\n",
    "workout_data_tuple[0:5]"
   ]
  },
  {
   "cell_type": "code",
   "execution_count": 27,
   "metadata": {},
   "outputs": [
    {
     "data": {
      "text/html": [
       "<div>\n",
       "<style scoped>\n",
       "    .dataframe tbody tr th:only-of-type {\n",
       "        vertical-align: middle;\n",
       "    }\n",
       "\n",
       "    .dataframe tbody tr th {\n",
       "        vertical-align: top;\n",
       "    }\n",
       "\n",
       "    .dataframe thead th {\n",
       "        text-align: right;\n",
       "    }\n",
       "</style>\n",
       "<table border=\"1\" class=\"dataframe\">\n",
       "  <thead>\n",
       "    <tr style=\"text-align: right;\">\n",
       "      <th></th>\n",
       "      <th>0</th>\n",
       "      <th>1</th>\n",
       "      <th>2</th>\n",
       "      <th>3</th>\n",
       "      <th>4</th>\n",
       "      <th>5</th>\n",
       "    </tr>\n",
       "  </thead>\n",
       "  <tbody>\n",
       "    <tr>\n",
       "      <th>0</th>\n",
       "      <td>Clean&amp;Jerk</td>\n",
       "      <td>3</td>\n",
       "      <td>7</td>\n",
       "      <td>65</td>\n",
       "      <td>2018-07-24</td>\n",
       "      <td>-1.0</td>\n",
       "    </tr>\n",
       "    <tr>\n",
       "      <th>1</th>\n",
       "      <td>BenchPress</td>\n",
       "      <td>3</td>\n",
       "      <td>7</td>\n",
       "      <td>65</td>\n",
       "      <td>2018-07-24</td>\n",
       "      <td>-1.0</td>\n",
       "    </tr>\n",
       "    <tr>\n",
       "      <th>2</th>\n",
       "      <td>ShoulderPress</td>\n",
       "      <td>2</td>\n",
       "      <td>7</td>\n",
       "      <td>65</td>\n",
       "      <td>2018-07-25</td>\n",
       "      <td>-1.0</td>\n",
       "    </tr>\n",
       "    <tr>\n",
       "      <th>3</th>\n",
       "      <td>ShoulderPress</td>\n",
       "      <td>1</td>\n",
       "      <td>10</td>\n",
       "      <td>65</td>\n",
       "      <td>2018-07-25</td>\n",
       "      <td>-1.0</td>\n",
       "    </tr>\n",
       "    <tr>\n",
       "      <th>4</th>\n",
       "      <td>BackSquat</td>\n",
       "      <td>3</td>\n",
       "      <td>5</td>\n",
       "      <td>65</td>\n",
       "      <td>2018-07-23</td>\n",
       "      <td>-1.0</td>\n",
       "    </tr>\n",
       "  </tbody>\n",
       "</table>\n",
       "</div>"
      ],
      "text/plain": [
       "               0  1   2   3          4    5\n",
       "0     Clean&Jerk  3   7  65 2018-07-24 -1.0\n",
       "1     BenchPress  3   7  65 2018-07-24 -1.0\n",
       "2  ShoulderPress  2   7  65 2018-07-25 -1.0\n",
       "3  ShoulderPress  1  10  65 2018-07-25 -1.0\n",
       "4      BackSquat  3   5  65 2018-07-23 -1.0"
      ]
     },
     "execution_count": 27,
     "metadata": {},
     "output_type": "execute_result"
    }
   ],
   "source": [
    "workout_data_database = pd.DataFrame(workout_data_tuple)\n",
    "workout_data_database.head()"
   ]
  },
  {
   "cell_type": "code",
   "execution_count": 28,
   "metadata": {
    "scrolled": true
   },
   "outputs": [
    {
     "data": {
      "text/html": [
       "<div>\n",
       "<style scoped>\n",
       "    .dataframe tbody tr th:only-of-type {\n",
       "        vertical-align: middle;\n",
       "    }\n",
       "\n",
       "    .dataframe tbody tr th {\n",
       "        vertical-align: top;\n",
       "    }\n",
       "\n",
       "    .dataframe thead th {\n",
       "        text-align: right;\n",
       "    }\n",
       "</style>\n",
       "<table border=\"1\" class=\"dataframe\">\n",
       "  <thead>\n",
       "    <tr style=\"text-align: right;\">\n",
       "      <th></th>\n",
       "      <th>exercise</th>\n",
       "      <th>sets</th>\n",
       "      <th>reps</th>\n",
       "      <th>weight_lbs</th>\n",
       "      <th>datetime</th>\n",
       "      <th>duration_minutes</th>\n",
       "    </tr>\n",
       "  </thead>\n",
       "  <tbody>\n",
       "    <tr>\n",
       "      <th>0</th>\n",
       "      <td>Clean&amp;Jerk</td>\n",
       "      <td>3</td>\n",
       "      <td>7</td>\n",
       "      <td>65</td>\n",
       "      <td>2018-07-24</td>\n",
       "      <td>-1.0</td>\n",
       "    </tr>\n",
       "    <tr>\n",
       "      <th>1</th>\n",
       "      <td>BenchPress</td>\n",
       "      <td>3</td>\n",
       "      <td>7</td>\n",
       "      <td>65</td>\n",
       "      <td>2018-07-24</td>\n",
       "      <td>-1.0</td>\n",
       "    </tr>\n",
       "    <tr>\n",
       "      <th>2</th>\n",
       "      <td>ShoulderPress</td>\n",
       "      <td>2</td>\n",
       "      <td>7</td>\n",
       "      <td>65</td>\n",
       "      <td>2018-07-25</td>\n",
       "      <td>-1.0</td>\n",
       "    </tr>\n",
       "    <tr>\n",
       "      <th>3</th>\n",
       "      <td>ShoulderPress</td>\n",
       "      <td>1</td>\n",
       "      <td>10</td>\n",
       "      <td>65</td>\n",
       "      <td>2018-07-25</td>\n",
       "      <td>-1.0</td>\n",
       "    </tr>\n",
       "    <tr>\n",
       "      <th>4</th>\n",
       "      <td>BackSquat</td>\n",
       "      <td>3</td>\n",
       "      <td>5</td>\n",
       "      <td>65</td>\n",
       "      <td>2018-07-23</td>\n",
       "      <td>-1.0</td>\n",
       "    </tr>\n",
       "  </tbody>\n",
       "</table>\n",
       "</div>"
      ],
      "text/plain": [
       "        exercise  sets  reps  weight_lbs   datetime  duration_minutes\n",
       "0     Clean&Jerk     3     7          65 2018-07-24              -1.0\n",
       "1     BenchPress     3     7          65 2018-07-24              -1.0\n",
       "2  ShoulderPress     2     7          65 2018-07-25              -1.0\n",
       "3  ShoulderPress     1    10          65 2018-07-25              -1.0\n",
       "4      BackSquat     3     5          65 2018-07-23              -1.0"
      ]
     },
     "execution_count": 28,
     "metadata": {},
     "output_type": "execute_result"
    }
   ],
   "source": [
    "workout_data_database.columns = column_names\n",
    "workout_data_database.head()"
   ]
  },
  {
   "cell_type": "code",
   "execution_count": 29,
   "metadata": {},
   "outputs": [],
   "source": [
    "workout_data_database.to_csv(r'C:\\Users\\jacqu\\Desktop\\Github Portfolio\\weightlifting-workout-tracker\\workout_data_database.csv')"
   ]
  }
 ],
 "metadata": {
  "kernelspec": {
   "display_name": "Python 3",
   "language": "python",
   "name": "python3"
  },
  "language_info": {
   "codemirror_mode": {
    "name": "ipython",
    "version": 3
   },
   "file_extension": ".py",
   "mimetype": "text/x-python",
   "name": "python",
   "nbconvert_exporter": "python",
   "pygments_lexer": "ipython3",
   "version": "3.7.1"
  }
 },
 "nbformat": 4,
 "nbformat_minor": 2
}
